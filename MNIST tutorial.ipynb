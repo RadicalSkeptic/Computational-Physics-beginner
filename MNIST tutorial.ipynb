{
 "cells": [
  {
   "cell_type": "code",
   "execution_count": 1,
   "id": "8876f549",
   "metadata": {},
   "outputs": [],
   "source": [
    "# Load the TensorBoard notebook extension\n",
    "%load_ext tensorboard\n",
    "import tensorflow as tf\n",
    "import datetime\n",
    "# Clear any logs from previous runs\n",
    "#%rm -rf ./logs/"
   ]
  },
  {
   "cell_type": "code",
   "execution_count": 2,
   "id": "dc6e6db6",
   "metadata": {},
   "outputs": [],
   "source": [
    "mnist = tf.keras.datasets.mnist\n",
    "\n",
    "(x_train, y_train),(x_test, y_test) = mnist.load_data()\n",
    "x_train, x_test = x_train / 255.0, x_test / 255.0\n",
    "\n",
    "def create_model():\n",
    "  return tf.keras.models.Sequential([\n",
    "    tf.keras.layers.Flatten(input_shape=(28, 28)),\n",
    "    tf.keras.layers.Dense(512, activation='relu'),\n",
    "    tf.keras.layers.Dropout(0.2),\n",
    "    tf.keras.layers.Dense(10, activation='softmax')\n",
    "  ])"
   ]
  },
  {
   "cell_type": "code",
   "execution_count": 3,
   "id": "95d06e5a",
   "metadata": {},
   "outputs": [
    {
     "name": "stdout",
     "output_type": "stream",
     "text": [
      "Epoch 1/10\n",
      "300/300 [==============================] - 5s 12ms/step - loss: 0.3204 - accuracy: 0.9090 - val_loss: 0.1587 - val_accuracy: 0.9528\n",
      "Epoch 2/10\n",
      "300/300 [==============================] - 2s 7ms/step - loss: 0.1399 - accuracy: 0.9596 - val_loss: 0.1039 - val_accuracy: 0.9691\n",
      "Epoch 3/10\n",
      "300/300 [==============================] - 2s 7ms/step - loss: 0.0971 - accuracy: 0.9711 - val_loss: 0.0882 - val_accuracy: 0.9728\n",
      "Epoch 4/10\n",
      "300/300 [==============================] - 2s 7ms/step - loss: 0.0740 - accuracy: 0.9783 - val_loss: 0.0783 - val_accuracy: 0.9757\n",
      "Epoch 5/10\n",
      "300/300 [==============================] - 2s 7ms/step - loss: 0.0593 - accuracy: 0.9822 - val_loss: 0.0717 - val_accuracy: 0.9782\n",
      "Epoch 6/10\n",
      "300/300 [==============================] - 2s 8ms/step - loss: 0.0484 - accuracy: 0.9855 - val_loss: 0.0677 - val_accuracy: 0.9801\n",
      "Epoch 7/10\n",
      "300/300 [==============================] - 2s 8ms/step - loss: 0.0391 - accuracy: 0.9883 - val_loss: 0.0637 - val_accuracy: 0.9793\n",
      "Epoch 8/10\n",
      "300/300 [==============================] - 2s 7ms/step - loss: 0.0339 - accuracy: 0.9896 - val_loss: 0.0639 - val_accuracy: 0.9809\n",
      "Epoch 9/10\n",
      "300/300 [==============================] - 2s 7ms/step - loss: 0.0270 - accuracy: 0.9927 - val_loss: 0.0614 - val_accuracy: 0.9813\n",
      "Epoch 10/10\n",
      "300/300 [==============================] - 2s 7ms/step - loss: 0.0233 - accuracy: 0.9934 - val_loss: 0.0602 - val_accuracy: 0.9807\n"
     ]
    },
    {
     "data": {
      "text/plain": [
       "<tensorflow.python.keras.callbacks.History at 0x233b6059970>"
      ]
     },
     "execution_count": 3,
     "metadata": {},
     "output_type": "execute_result"
    }
   ],
   "source": [
    "model = create_model()\n",
    "model.compile(optimizer='adam',\n",
    "              loss='sparse_categorical_crossentropy',\n",
    "              metrics=['accuracy'])\n",
    "\n",
    "log_dir = \"logs/fit/\" + datetime.datetime.now().strftime(\"%Y%m%d-%H%M%S\")\n",
    "tensorboard_callback = tf.keras.callbacks.TensorBoard(log_dir=log_dir, histogram_freq=1)\n",
    "\n",
    "model.fit(x=x_train, \n",
    "          y=y_train, \n",
    "          epochs=10,\n",
    "          batch_size=200,\n",
    "          validation_data=(x_test, y_test), \n",
    "          callbacks=[tensorboard_callback])"
   ]
  },
  {
   "cell_type": "code",
   "execution_count": 4,
   "id": "67eb9863",
   "metadata": {},
   "outputs": [
    {
     "data": {
      "text/plain": [
       "Reusing TensorBoard on port 6006 (pid 11996), started 0:30:40 ago. (Use '!kill 11996' to kill it.)"
      ]
     },
     "metadata": {},
     "output_type": "display_data"
    },
    {
     "data": {
      "text/html": [
       "\n",
       "      <iframe id=\"tensorboard-frame-5487428d8fab151e\" width=\"100%\" height=\"800\" frameborder=\"0\">\n",
       "      </iframe>\n",
       "      <script>\n",
       "        (function() {\n",
       "          const frame = document.getElementById(\"tensorboard-frame-5487428d8fab151e\");\n",
       "          const url = new URL(\"/\", window.location);\n",
       "          const port = 6006;\n",
       "          if (port) {\n",
       "            url.port = port;\n",
       "          }\n",
       "          frame.src = url;\n",
       "        })();\n",
       "      </script>\n",
       "    "
      ],
      "text/plain": [
       "<IPython.core.display.HTML object>"
      ]
     },
     "metadata": {},
     "output_type": "display_data"
    }
   ],
   "source": [
    "%tensorboard --logdir {logs_base_dir}  --host localhost"
   ]
  }
 ],
 "metadata": {
  "kernelspec": {
   "display_name": "Python 3",
   "language": "python",
   "name": "python3"
  },
  "language_info": {
   "codemirror_mode": {
    "name": "ipython",
    "version": 3
   },
   "file_extension": ".py",
   "mimetype": "text/x-python",
   "name": "python",
   "nbconvert_exporter": "python",
   "pygments_lexer": "ipython3",
   "version": "3.9.4"
  }
 },
 "nbformat": 4,
 "nbformat_minor": 5
}
