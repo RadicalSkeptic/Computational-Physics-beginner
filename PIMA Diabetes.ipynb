{
 "cells": [
  {
   "cell_type": "code",
   "execution_count": 1,
   "id": "508ba9d0",
   "metadata": {},
   "outputs": [],
   "source": [
    "import csv\n",
    "import math\n",
    "import random"
   ]
  },
  {
   "cell_type": "code",
   "execution_count": 3,
   "id": "08446234",
   "metadata": {},
   "outputs": [],
   "source": [
    "def loadcsv(filename):\n",
    "    lines = csv.reader(open(r'E:\\MyCodes\\Diabetes\\pima-indians-diabetes.csv'))\n",
    "    dataset = list(lines)\n",
    "    for i in range(len(dataset)):\n",
    "        dataset[i] = [float(x) for x in dataset[i]]\n",
    "    return dataset"
   ]
  },
  {
   "cell_type": "code",
   "execution_count": 4,
   "id": "a9ba5a39",
   "metadata": {},
   "outputs": [],
   "source": [
    "def splitdataset(dataset, splitratio):\n",
    "    trainsize = int(len(dataset)*splitratio)\n",
    "    trainset = []\n",
    "    copy = list(dataset)\n",
    "    while len(trainset) < trainsize:\n",
    "        index = random.randrange(len(copy))\n",
    "        trainset.append(copy.pop(index))\n",
    "    return [trainset,copy]"
   ]
  },
  {
   "cell_type": "code",
   "execution_count": null,
   "id": "fd69e82f",
   "metadata": {},
   "outputs": [],
   "source": []
  }
 ],
 "metadata": {
  "kernelspec": {
   "display_name": "Python 3",
   "language": "python",
   "name": "python3"
  },
  "language_info": {
   "codemirror_mode": {
    "name": "ipython",
    "version": 3
   },
   "file_extension": ".py",
   "mimetype": "text/x-python",
   "name": "python",
   "nbconvert_exporter": "python",
   "pygments_lexer": "ipython3",
   "version": "3.9.4"
  }
 },
 "nbformat": 4,
 "nbformat_minor": 5
}
