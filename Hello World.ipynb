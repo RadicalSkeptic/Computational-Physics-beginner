{
 "cells": [
  {
   "cell_type": "code",
   "execution_count": 1,
   "id": "c8f80901",
   "metadata": {},
   "outputs": [
    {
     "ename": "NameError",
     "evalue": "name 'hello' is not defined",
     "output_type": "error",
     "traceback": [
      "\u001b[1;31m---------------------------------------------------------------------------\u001b[0m",
      "\u001b[1;31mNameError\u001b[0m                                 Traceback (most recent call last)",
      "\u001b[1;32m<ipython-input-1-f572d396fae9>\u001b[0m in \u001b[0;36m<module>\u001b[1;34m\u001b[0m\n\u001b[1;32m----> 1\u001b[1;33m \u001b[0mhello\u001b[0m\u001b[1;33m\u001b[0m\u001b[1;33m\u001b[0m\u001b[0m\n\u001b[0m",
      "\u001b[1;31mNameError\u001b[0m: name 'hello' is not defined"
     ]
    }
   ],
   "source": [
    "hello"
   ]
  },
  {
   "cell_type": "code",
   "execution_count": 2,
   "id": "f4f4eed7",
   "metadata": {},
   "outputs": [
    {
     "name": "stdout",
     "output_type": "stream",
     "text": [
      "Hello\n"
     ]
    }
   ],
   "source": [
    "print(\"Hello\")"
   ]
  },
  {
   "cell_type": "code",
   "execution_count": 3,
   "id": "c0cc0bf3",
   "metadata": {},
   "outputs": [
    {
     "data": {
      "image/png": "[encoded data removed]",
      "text/plain": [
       "<Figure size 432x288 with 1 Axes>"
      ]
     },
     "metadata": {
      "needs_background": "light"
     },
     "output_type": "display_data"
    }
   ],
   "source": [
    "import random\n",
    "from numpy import *\n",
    "import pylab as p\n",
    "steps = 1000\n",
    "x = zeros(steps)\n",
    "y = zeros(steps)\n",
    "for i in arange(1, steps, 1):\n",
    "    f = random.choice([1, 2, 3, 4])\n",
    "    if (f == 1):\n",
    "        x[i] = x[i-1]+1\n",
    "        y[i] = y[i-1]\n",
    "    elif(f == 2):\n",
    "        x[i] = x[i-1]\n",
    "        y[i] = y[i-1]+1\n",
    "    elif(f == 3):\n",
    "        x[i] = x[i-1]-1\n",
    "        y[i] = y[i-1]\n",
    "    elif(f == 4):\n",
    "        x[i] = x[i-1]\n",
    "        y[i] = y[i-1]-1\n",
    "    else:\n",
    "        print(\"ERROR!\")\n",
    "\n",
    "\n",
    "p.plot(x, y)\n",
    "p.grid(True)\n",
    "p.show()\n"
   ]
  },
  {
   "cell_type": "code",
   "execution_count": 7,
   "id": "7b34abe9",
   "metadata": {},
   "outputs": [
    {
     "data": {
      "image/png": "[encoded data removed]",
      "text/plain": [
       "<Figure size 432x288 with 1 Axes>"
      ]
     },
     "metadata": {
      "needs_background": "light"
     },
     "output_type": "display_data"
    }
   ],
   "source": [
    "import random\n",
    "from numpy import *\n",
    "import pylab as p\n",
    "steps = 1000\n",
    "x = zeros(steps)\n",
    "y = zeros(steps)\n",
    "for i in arange(1, steps, 1):\n",
    "    f = random.choice([1, 2, 3, 4])\n",
    "    if (f == 1):\n",
    "        x[i] = x[i-1]+1\n",
    "        y[i] = y[i-1]\n",
    "    elif(f == 2):\n",
    "        x[i] = x[i-1]\n",
    "        y[i] = y[i-1]+1\n",
    "    elif(f == 3):\n",
    "        x[i] = x[i-1]-1\n",
    "        y[i] = y[i-1]\n",
    "    elif(f == 4):\n",
    "        x[i] = x[i-1]\n",
    "        y[i] = y[i-1]-1\n",
    "    else:\n",
    "        print(\"ERROR!\")\n",
    "\n",
    "\n",
    "p.plot(x, y)\n",
    "p.grid(True)\n",
    "p.show()\n"
   ]
  },
  {
   "cell_type": "code",
   "execution_count": null,
   "id": "3a4d8e10",
   "metadata": {},
   "outputs": [],
   "source": []
  }
 ],
 "metadata": {
  "kernelspec": {
   "display_name": "Python 3",
   "language": "python",
   "name": "python3"
  },
  "language_info": {
   "codemirror_mode": {
    "name": "ipython",
    "version": 3
   },
   "file_extension": ".py",
   "mimetype": "text/x-python",
   "name": "python",
   "nbconvert_exporter": "python",
   "pygments_lexer": "ipython3",
   "version": "3.9.4"
  }
 },
 "nbformat": 4,
 "nbformat_minor": 5
}
